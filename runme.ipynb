{
 "cells": [
  {
   "cell_type": "markdown",
   "metadata": {},
   "source": [
    "# Imports"
   ]
  },
  {
   "cell_type": "code",
   "execution_count": 3,
   "metadata": {},
   "outputs": [],
   "source": [
    "from scipy.stats import truncnorm, multivariate_normal, norm\n",
    "import numpy as np\n",
    "import matplotlib.pyplot as plt\n",
    "import time\n",
    "import seaborn as sns\n",
    "import pandas as pd"
   ]
  },
  {
   "cell_type": "markdown",
   "metadata": {},
   "source": [
    "# Hyperparameters"
   ]
  },
  {
   "cell_type": "code",
   "execution_count": 4,
   "metadata": {},
   "outputs": [],
   "source": [
    "mu_1 = 25\n",
    "mu_2 = 25\n",
    "sigma_1 = 25/3\n",
    "sigma_2 = 25/3\n",
    "sigma_t = 25/6\n",
    "iterations = 1200\n",
    "burn_in = 25"
   ]
  },
  {
   "cell_type": "markdown",
   "metadata": {},
   "source": [
    "# Q4 - Gibbs sampler"
   ]
  },
  {
   "cell_type": "code",
   "execution_count": 5,
   "metadata": {},
   "outputs": [],
   "source": [
    "# sample from a truncated normal distribution\n",
    "def truncated_normal(mean, std, lower, upper):\n",
    "    a, b = (lower - mean) / std, (upper - mean) / std\n",
    "    return truncnorm.rvs(a, b, loc=mean, scale=std)"
   ]
  },
  {
   "cell_type": "code",
   "execution_count": 2,
   "metadata": {},
   "outputs": [],
   "source": [
    "# Gibbs Sampler\n",
    "def gibbs_sampler(mu_1, sigma_1, mu_2, sigma_2 ,y, iterations):\n",
    "    \n",
    "    if y == 1:\n",
    "        t = np.abs(np.random.randn())\n",
    "    else:\n",
    "        t = -np.abs(np.random.randn())\n",
    "\n",
    "    \n",
    "    samples = []\n",
    "    \n",
    "    for i in range(iterations):\n",
    "        # Calculationg mean and sigma of p(s1,s2|t,y) = p(S|t,y)\n",
    "        \n",
    "        sigma_s_inv = np.array([[1.0/(sigma_1 * sigma_1), 0.0],\n",
    "                                [0.0, 1.0/(sigma_2 * sigma_2)]])\n",
    "        \n",
    "        sigma_t_given_s_inv = 1.0 / (sigma_t * sigma_t)\n",
    "        mu_s = np.array([mu_1, mu_2]).T.reshape(2,1) # 2 x 1 (2, 1)\n",
    "        A = np.array([1.0, -1.0]).reshape(1, 2) # 1 x 2\n",
    "        \n",
    "        # (2x2)\n",
    "        cov_s_given_t = np.linalg.inv(sigma_s_inv + (A.T @ (sigma_t_given_s_inv * A) ) )\n",
    "        \n",
    "        # (2x1)\n",
    "        mean_s_given_t = cov_s_given_t @ ( (sigma_s_inv @ mu_s) + (A.T * sigma_t_given_s_inv * t) )\n",
    " \n",
    "       \n",
    "        \n",
    "        mean_s_given_t = mean_s_given_t.reshape(2,)\n",
    "        # QUESTION 3.1\n",
    "        # Step 1: Draw s_1 and s_2 from the conditional distribution N(mean_s|t, cov_s|t) -\n",
    "        s_1, s_2 = multivariate_normal.rvs(mean=mean_s_given_t, cov=cov_s_given_t)\n",
    "\n",
    "        \n",
    "\n",
    "        # QUESTION 3.2\n",
    "        # Step 2: Draw t from the conditional distribution \n",
    "        mean_t = s_1 - s_2 \n",
    "        if y == 1:\n",
    "            t = truncated_normal(mean_t, sigma_t, 0, np.inf)  # For y = 1, t > 0\n",
    "        else:\n",
    "            t = truncated_normal(mean_t, sigma_t, -np.inf, 0)  # For y = -1, t < 0\n",
    "\n",
    "        # Store samples\n",
    "        samples.append((s_1, s_2, t))\n",
    "\n",
    "    \n",
    "  \n",
    "    samples = np.array(samples)\n",
    "    return samples"
   ]
  },
  {
   "cell_type": "code",
   "execution_count": null,
   "metadata": {},
   "outputs": [],
   "source": []
  },
  {
   "cell_type": "markdown",
   "metadata": {},
   "source": [
    "# Q5"
   ]
  },
  {
   "cell_type": "markdown",
   "metadata": {},
   "source": [
    "# Q6"
   ]
  },
  {
   "cell_type": "markdown",
   "metadata": {},
   "source": [
    "# Q7"
   ]
  },
  {
   "cell_type": "markdown",
   "metadata": {},
   "source": [
    "# Q8"
   ]
  },
  {
   "cell_type": "markdown",
   "metadata": {},
   "source": []
  }
 ],
 "metadata": {
  "kernelspec": {
   "display_name": "Python 3",
   "language": "python",
   "name": "python3"
  },
  "language_info": {
   "codemirror_mode": {
    "name": "ipython",
    "version": 3
   },
   "file_extension": ".py",
   "mimetype": "text/x-python",
   "name": "python",
   "nbconvert_exporter": "python",
   "pygments_lexer": "ipython3",
   "version": "3.9.18"
  }
 },
 "nbformat": 4,
 "nbformat_minor": 2
}
