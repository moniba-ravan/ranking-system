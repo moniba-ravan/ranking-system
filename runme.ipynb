{
 "cells": [
  {
   "cell_type": "markdown",
   "metadata": {},
   "source": [
    "# Imports"
   ]
  },
  {
   "cell_type": "code",
   "execution_count": null,
   "metadata": {},
   "outputs": [],
   "source": [
    "from scipy.stats import truncnorm, multivariate_normal, norm\n",
    "import numpy as np\n",
    "import matplotlib.pyplot as plt\n",
    "import time\n",
    "import seaborn as sns\n",
    "import pandas as pd"
   ]
  },
  {
   "cell_type": "markdown",
   "metadata": {},
   "source": [
    "# Hyperparameters"
   ]
  },
  {
   "cell_type": "code",
   "execution_count": null,
   "metadata": {},
   "outputs": [],
   "source": [
    "mu_1 = 25\n",
    "mu_2 = 25\n",
    "sigma_1 = 25/3\n",
    "sigma_2 = 25/3\n",
    "sigma_t = 25/6\n",
    "iterations = 1200\n",
    "burn_in = 25 # Q4, \n",
    "num_seeds = 42 # for Q5.2, changing the order of the matches."
   ]
  },
  {
   "cell_type": "markdown",
   "metadata": {},
   "source": [
    "# Q4 - Gibbs sampler"
   ]
  },
  {
   "cell_type": "markdown",
   "metadata": {},
   "source": [
    "## Gibbs sampler"
   ]
  },
  {
   "cell_type": "code",
   "execution_count": null,
   "metadata": {},
   "outputs": [],
   "source": [
    "# sample from a truncated normal distribution\n",
    "def truncated_normal(mean, std, lower, upper):\n",
    "    a, b = (lower - mean) / std, (upper - mean) / std\n",
    "    return truncnorm.rvs(a, b, loc=mean, scale=std)\n",
    "\n",
    "# Gibbs Sampler\n",
    "def gibbs_sampler(mu_A, sigma_A, mu_B, sigma_B ,y, iterations):\n",
    "    \n",
    "    if y == 1:\n",
    "        t = np.abs(np.random.randn())\n",
    "    else:\n",
    "        t = -np.abs(np.random.randn())\n",
    "\n",
    "    \n",
    "    samples = []\n",
    "    \n",
    "    for i in range(iterations):\n",
    "        # Calculationg mean and sigma of p(s1,s2|t,y) = p(S|t,y)\n",
    "        \n",
    "        sigma_s_inv = np.array([[1.0/(sigma_A * sigma_A), 0.0],\n",
    "                                [0.0, 1.0/(sigma_B * sigma_B)]])\n",
    "        \n",
    "        sigma_t_given_s_inv = 1.0 / (sigma_t * sigma_t)\n",
    "        mu_s = np.array([mu_A, mu_B]).T.reshape(2,1) # 2 x 1 (2, 1)\n",
    "        A = np.array([1.0, -1.0]).reshape(1, 2) # 1 x 2\n",
    "        \n",
    "        # (2x2)\n",
    "        cov_s_given_t = np.linalg.inv(sigma_s_inv + (A.T @ (sigma_t_given_s_inv * A) ) )\n",
    "        \n",
    "        # (2x1)\n",
    "        mean_s_given_t = cov_s_given_t @ ( (sigma_s_inv @ mu_s) + (A.T * sigma_t_given_s_inv * t) )\n",
    " \n",
    "       \n",
    "        \n",
    "        mean_s_given_t = mean_s_given_t.reshape(2,)\n",
    "        # QUESTION 3.1\n",
    "        # Step 1: Draw s_1 and s_2 from the conditional distribution N(mean_s|t, cov_s|t) -\n",
    "        s_1, s_2 = multivariate_normal.rvs(mean=mean_s_given_t, cov=cov_s_given_t)\n",
    "\n",
    "        \n",
    "\n",
    "        # QUESTION 3.2\n",
    "        # Step 2: Draw t from the conditional distribution \n",
    "        mean_t = s_1 - s_2 \n",
    "        if y == 1:\n",
    "            t = truncated_normal(mean_t, sigma_t, 0, np.inf)  # For y = 1, t > 0\n",
    "        else:\n",
    "            t = truncated_normal(mean_t, sigma_t, -np.inf, 0)  # For y = -1, t < 0\n",
    "\n",
    "        # Store samples\n",
    "        samples.append((s_1, s_2, t))\n",
    "\n",
    "    \n",
    "  \n",
    "    samples = np.array(samples)\n",
    "    return samples"
   ]
  },
  {
   "cell_type": "markdown",
   "metadata": {},
   "source": [
    "## Q4.1"
   ]
  },
  {
   "cell_type": "code",
   "execution_count": null,
   "metadata": {},
   "outputs": [],
   "source": [
    "# Example execution of the sampler for y = 1\n",
    "samples = gibbs_sampler(mu_1, sigma_1, mu_2, sigma_2, y=1, iterations=iterations)\n",
    "\n",
    "# Extract s_1, s_2, and t samples\n",
    "s_1_samples, s_2_samples, t_samples = samples[:, 0], samples[:, 1], samples[:, 2]\n",
    "\n",
    "print(f\"Samples shape: {samples.shape}, First sample (s_1, s_2, t): {samples[0]}\")\n",
    "print(f\"s_1 shape: {s_1_samples.shape}, s_2 shape: {s_2_samples.shape}, t shape: {t_samples.shape}\")\n"
   ]
  },
  {
   "cell_type": "markdown",
   "metadata": {},
   "source": [
    "### Trace Plot $before$ Burn-in "
   ]
  },
  {
   "cell_type": "code",
   "execution_count": null,
   "metadata": {},
   "outputs": [],
   "source": [
    "# Trace plots to determine the burn-in period\n",
    "plt.figure(figsize=(12, 5))\n",
    "plt.subplot(1, 2, 1)\n",
    "plt.plot(s_1_samples, label=\"s_1\")\n",
    "plt.axvline(x=burn_in, color='r', linestyle='--', label='Burn-in cutoff')\n",
    "plt.title(\"Trace plot of $s_1$\")\n",
    "plt.xlabel(\"Iteration\")\n",
    "plt.ylabel(\"$s_1$\")\n",
    "plt.legend()\n",
    "\n",
    "plt.subplot(1, 2, 2)\n",
    "plt.plot(s_2_samples, label=\"s_2\")\n",
    "plt.axvline(x=burn_in, color='r', linestyle='--', label='Burn-in cutoff')\n",
    "plt.title(\"Trace plot of $s_2$\")\n",
    "plt.xlabel(\"Iteration\")\n",
    "plt.ylabel(\"$s_2$\")\n",
    "plt.legend()\n",
    "plt.show()"
   ]
  },
  {
   "cell_type": "markdown",
   "metadata": {},
   "source": [
    "### TRACE PLOT $AFTER$ BURN IN"
   ]
  },
  {
   "cell_type": "code",
   "execution_count": null,
   "metadata": {},
   "outputs": [],
   "source": [
    "s_1_filtered = s_1_samples[burn_in:]\n",
    "s_2_filtered = s_2_samples[burn_in:]\n",
    "\n",
    "skills_filtered = np.column_stack((s_1_filtered, s_2_filtered))"
   ]
  },
  {
   "cell_type": "code",
   "execution_count": null,
   "metadata": {},
   "outputs": [],
   "source": [
    "# Trace plots to show iterations after burn-in period\n",
    "plt.figure(figsize=(12, 5))\n",
    "\n",
    "# Plot for s_1 after burn-in\n",
    "plt.subplot(1, 2, 1)\n",
    "plt.plot(s_1_filtered, label=\"s_1\")  # Plotting from burn_in onwards\n",
    "plt.title(\"Trace plot of $s_1$ after Burn-in\")\n",
    "plt.xlabel(\"Iteration\")\n",
    "plt.ylabel(\"$s_1$\")\n",
    "plt.xticks(ticks=np.arange(0, len(s_1_samples[burn_in:]), step=25), labels=np.arange(burn_in, len(s_1_samples), step=25))  # X-Achse anpassen\n",
    "plt.legend()\n",
    "\n",
    "# Plot for s_2 after burn-in\n",
    "plt.subplot(1, 2, 2)\n",
    "plt.plot(s_2_filtered, label=\"s_2\")  # Plotting from burn_in onwards\n",
    "plt.title(\"Trace plot of $s_2$ after Burn-in\")\n",
    "plt.xlabel(\"Iteration\")\n",
    "plt.ylabel(\"$s_2$\")\n",
    "plt.xticks(ticks=np.arange(0, len(s_2_samples[burn_in:]), step=25), labels=np.arange(burn_in, len(s_2_samples), step=25))  # X-Achse anpassen\n",
    "plt.legend()\n",
    "\n",
    "plt.show()"
   ]
  },
  {
   "cell_type": "markdown",
   "metadata": {},
   "source": [
    "## Q4.2\n",
    "\n",
    "Approximate samples by a multivariate normal distibution"
   ]
  },
  {
   "cell_type": "code",
   "execution_count": null,
   "metadata": {},
   "outputs": [],
   "source": [
    "def gaussian_approximation(samples):\n",
    "    mean = np.mean(samples, axis = 0)\n",
    "    covariance = np.cov(samples, rowvar = False) # rowvar=False ensures we calculate cov among players (columns)\n",
    "    # Creating a multivariate normal distribution object\n",
    "    gaussian_dist = multivariate_normal(mean=mean, cov=covariance)\n",
    "    return gaussian_dist\n",
    "\n",
    "gaussian_dist = gaussian_approximation(skills_filtered)\n",
    "\n",
    "\n",
    "# Print the mean and covariance of the approximated Gaussian distribution\n",
    "print(\"Mean of the approximated Gaussian distribution:\", gaussian_dist.mean)\n",
    "print(\"Covariance matrix of the approximated Gaussian distribution:\", gaussian_dist.cov)"
   ]
  },
  {
   "cell_type": "markdown",
   "metadata": {},
   "source": [
    "## Q4.3\n",
    "\n",
    "Plot Function - Gaussian Approximation and Histograms for Samples from Gibbs Sampler"
   ]
  },
  {
   "cell_type": "code",
   "execution_count": null,
   "metadata": {},
   "outputs": [],
   "source": [
    "# Function to generate the plot layout for each sample size\n",
    "def plot_gaussian_with_histograms(ax_contour, ax_histx, ax_histy, samples, num_samples, elapsed_time):\n",
    "    # Extract the range of s1 and s2\n",
    "    s1_min, s1_max = np.min(samples[:, 0]), np.max(samples[:, 0])\n",
    "    s2_min, s2_max = np.min(samples[:, 1]), np.max(samples[:, 1])\n",
    "\n",
    "    # Set limits for the contour plot based on the data range\n",
    "    ax_contour.set_xlim(s1_min, s1_max)\n",
    "    ax_contour.set_ylim(s2_min, s2_max)\n",
    "\n",
    "    # Create a grid for the 2D distribution based on the data range\n",
    "    x, y = np.mgrid[s1_min:s1_max:100j, s2_min:s2_max:100j]  # Adjust grid range\n",
    "    pos = np.dstack((x, y))\n",
    "\n",
    "    # Fit the multivariate Gaussian to your data (optional, depends on what you're doing)\n",
    "    gaussian_dist = gaussian_approximation(samples)\n",
    "\n",
    "    # Plot the 2D contour plot using the Gaussian approximation\n",
    "    ax_contour.contourf(x, y, gaussian_dist.pdf(pos), cmap='Blues')\n",
    "    ax_contour.scatter(samples[:, 0], samples[:, 1], s=5, color='r', alpha=0.5, label=\"Samples\")\n",
    "    ax_contour.set_xlabel('s1')\n",
    "    ax_contour.set_ylabel('s2')\n",
    "    ax_contour.set_title(f'{num_samples} samples, Time: {elapsed_time:.2f} sec')\n",
    "\n",
    "    # Plot the histogram for s1 (top)\n",
    "    ax_histx.hist(samples[:, 0], bins=30, density=True, alpha=0.6, color='g', label=\"Histogram (s1)\")\n",
    "    x_vals = np.linspace(s1_min, s1_max, 100)\n",
    "    ax_histx.plot(x_vals, norm.pdf(x_vals, gaussian_dist.mean[0], np.sqrt(gaussian_dist.cov[0, 0])), 'g-', lw=2, label=\"Gaussian fit (s1)\")\n",
    "    ax_histx.set_xlim(s1_min, s1_max)  # Set x-axis limits for s1 histogram\n",
    "    ax_histx.set_ylabel('Density')\n",
    "\n",
    "    # Plot the histogram for s2 (right)\n",
    "    ax_histy.hist(samples[:, 1], bins=30, density=True, orientation='horizontal', alpha=0.6, color='b', label=\"Histogram (s2)\")\n",
    "    y_vals = np.linspace(s2_min, s2_max, 100)\n",
    "    ax_histy.plot(norm.pdf(y_vals, gaussian_dist.mean[1], np.sqrt(gaussian_dist.cov[1, 1])), y_vals, 'purple', lw=2, label=\"Gaussian fit (s2)\")\n",
    "    ax_histy.set_ylim(s2_min, s2_max)  # Set y-axis limits for s2 histogram\n",
    "    ax_histy.set_xlabel('Density')"
   ]
  },
  {
   "cell_type": "markdown",
   "metadata": {},
   "source": [
    "Plot for 4 different sample_sizes"
   ]
  },
  {
   "cell_type": "code",
   "execution_count": null,
   "metadata": {},
   "outputs": [],
   "source": [
    "import numpy as np\n",
    "import matplotlib.pyplot as plt\n",
    "from scipy.stats import multivariate_normal, norm\n",
    "import time\n",
    "\n",
    "sample_sizes = [200, 800, 1200, 3000]\n",
    "# sample_sizes = [iterations * i for i in range(1, 5)]\n",
    "#sample_sizes = [iterations * i**2 for i in range(1, 5)]\n",
    "\n",
    "# Create a figure with 2x2 subplots\n",
    "fig1, axes1 = plt.subplots(2, 2, figsize=(12, 10))  # For 1&2 in first row, 3&4 in second row\n",
    "\n",
    "# Loop through your own sample sizes (for demonstration, using the same data multiple times)\n",
    "#sample_sizes = [100, 500, 1000, 5000]  # Modify this as needed to match your data\n",
    "for i, num_samples in enumerate(sample_sizes):\n",
    "    # Measure the time taken to generate the samples (or just simulate this if you're using pre-existing data)\n",
    "    start_time = time.time()\n",
    "\n",
    "    # For your own data, simply subset or repeat it if needed\n",
    "    #samples = samples_own[:num_samples]\n",
    "    samples = gibbs_sampler(mu_1, sigma_1, mu_2, sigma_2, y=1, iterations=num_samples)\n",
    "\n",
    "    # Extract s1, s2, and t from the samples\n",
    "    s_1_samples, s_2_samples, t_samples = samples[:, 0], samples[:, 1], samples[:, 2]\n",
    "\n",
    "    # Apply burn-in to remove the initial samples\n",
    "    #burn_in = int(0.1 * num_samples)\n",
    "    s_1_filtered = s_1_samples[burn_in:]\n",
    "    s_2_filtered = s_2_samples[burn_in:]\n",
    "\n",
    "    # Combine filtered s1 and s2 into a single array\n",
    "    skills_filtered = np.column_stack((s_1_filtered, s_2_filtered))\n",
    "\n",
    "    # Measure elapsed time for generating samples\n",
    "    elapsed_time = time.time() - start_time\n",
    "\n",
    "    # Determine which subplot to use based on index\n",
    "    row, col = divmod(i, 2)  # Row and column index (0 or 1)\n",
    "    ax_contour = axes1[row, col]  # Use the correct subplot\n",
    "\n",
    "    # Set up the shared axes for the histograms with more padding for spacing\n",
    "    ax_histx = axes1[row, col].inset_axes([0, 1.08, 1, 0.18], transform=axes1[row, col].transAxes)  # Top histogram for s1\n",
    "    ax_histy = axes1[row, col].inset_axes([1.08, 0, 0.18, 1], transform=axes1[row, col].transAxes)  # Right histogram for s2\n",
    "\n",
    "    # Call the plotting function to display the results in this subplot\n",
    "    plot_gaussian_with_histograms(ax_contour, ax_histx, ax_histy, skills_filtered, num_samples, elapsed_time)\n",
    "\n",
    "    gaussian_dist = gaussian_approximation(skills_filtered)\n",
    "\n",
    "    # Add mean and covariance information to the contour plot as text\n",
    "    ax_contour.text(0.05, 0.95, f\"Mean: {gaussian_dist.mean}\", transform=ax_contour.transAxes, fontsize=10,\n",
    "                    verticalalignment='top', bbox=dict(facecolor='white', alpha=0.7))\n",
    "    ax_contour.text(0.05, 0.85, f\"Cov: {np.array2string(gaussian_dist.cov, precision=2)}\", transform=ax_contour.transAxes, \n",
    "                    fontsize=10, verticalalignment='top', bbox=dict(facecolor='white', alpha=0.7))\n",
    "\n",
    "    # Print the mean and covariance of the approximated Gaussian distribution\n",
    "    print(\"Sample Size:\", num_samples)\n",
    "    print(\"Mean of the approximated Gaussian distribution:\", gaussian_dist.mean)\n",
    "    print(\"Covariance matrix of the approximated Gaussian distribution:\", gaussian_dist.cov)\n",
    "    print()    \n",
    "\n",
    "# Adjust layout and show the combined figure with two sets of plots (2x2 grid)\n",
    "plt.tight_layout()\n",
    "#pdf_path = 'q4_sample_comparison.pdf'\n",
    "#plt.savefig(pdf_path)\n",
    "plt.show()"
   ]
  },
  {
   "cell_type": "markdown",
   "metadata": {},
   "source": [
    "## Q4.4\n",
    "COMPARE PRIOR p(s1) and p(s2) with POSTERIOR p(s1|y=1) and p(s2|y=1) based on results Gibbs sampler and gaussian approximation of the posterior"
   ]
  },
  {
   "cell_type": "code",
   "execution_count": null,
   "metadata": {},
   "outputs": [],
   "source": [
    "print(\"Mean of the approximated Gaussian distribution:\", gaussian_dist.mean)\n",
    "print(\"Covariance matrix of the approximated Gaussian distribution:\", gaussian_dist.cov)"
   ]
  },
  {
   "cell_type": "code",
   "execution_count": null,
   "metadata": {},
   "outputs": [],
   "source": [
    "mu_1_post = gaussian_dist.mean[0]  # Mean of the posterior for s1\n",
    "sigma_1_post = np.sqrt(gaussian_dist.cov[0, 0])  # Std dev of the posterior for s1\n",
    "mu_2_post = gaussian_dist.mean[1]  # Mean of the posterior for s2\n",
    "sigma_2_post = np.sqrt(gaussian_dist.cov[1, 1])  # Std dev of the posterior for s2"
   ]
  },
  {
   "cell_type": "code",
   "execution_count": null,
   "metadata": {},
   "outputs": [],
   "source": [
    "# Plot the prior and posterior for s1\n",
    "x_s1 = np.linspace(mu_1 - 4*sigma_1, mu_1 + 4*sigma_1, 1000)\n",
    "prior_s1 = norm.pdf(x_s1, mu_1, sigma_1)\n",
    "posterior_s1 = norm.pdf(x_s1, mu_1_post, sigma_1_post)\n",
    "\n",
    "plt.figure(figsize=(10, 5))\n",
    "plt.subplot(1, 2, 1)\n",
    "plt.plot(x_s1, prior_s1, label=\"Prior p(s1)\", color='blue', lw=2)\n",
    "plt.plot(x_s1, posterior_s1, label=\"Posterior p(s1|y=1)\", color='red', lw=2, linestyle='dashed')\n",
    "plt.title(\"Comparison of Prior and Posterior for s1\")\n",
    "plt.xlabel(\"s1\")\n",
    "plt.ylabel(\"Density\")\n",
    "plt.legend()\n",
    "\n",
    "# Plot the prior and posterior for s2\n",
    "x_s2 = np.linspace(mu_2 - 4*sigma_2, mu_2 + 4*sigma_2, 1000)\n",
    "prior_s2 = norm.pdf(x_s2, mu_2, sigma_2)\n",
    "posterior_s2 = norm.pdf(x_s2, mu_2_post, sigma_2_post)\n",
    "\n",
    "plt.subplot(1, 2, 2)\n",
    "plt.plot(x_s2, prior_s2, label=\"Prior p(s2)\", color='blue', lw=2)\n",
    "plt.plot(x_s2, posterior_s2, label=\"Posterior p(s2|y=1)\", color='red', lw=2, linestyle='dashed')\n",
    "plt.title(\"Comparison of Prior and Posterior for s2\")\n",
    "plt.xlabel(\"s2\")\n",
    "plt.ylabel(\"Density\")\n",
    "plt.legend()\n",
    "\n",
    "plt.tight_layout()\n",
    "plt.show()"
   ]
  },
  {
   "cell_type": "markdown",
   "metadata": {},
   "source": [
    "# Q5 - Assumed Density Filtering"
   ]
  },
  {
   "cell_type": "markdown",
   "metadata": {},
   "source": [
    "## Loading Dataset"
   ]
  },
  {
   "cell_type": "code",
   "execution_count": null,
   "metadata": {},
   "outputs": [],
   "source": [
    "df = pd.read_csv('SerieA.csv')"
   ]
  },
  {
   "cell_type": "markdown",
   "metadata": {},
   "source": [
    "Finding the name of the unique teams "
   ]
  },
  {
   "cell_type": "code",
   "execution_count": null,
   "metadata": {},
   "outputs": [],
   "source": [
    "unique_teams = pd.concat([df['team1'], df['team1']], ignore_index=True).unique().tolist() # list\n",
    "unique_teams.sort()\n",
    "# Assign index to each\n",
    "unique_teams # 0, Atlanta"
   ]
  },
  {
   "cell_type": "code",
   "execution_count": null,
   "metadata": {},
   "outputs": [],
   "source": [
    "team_mapping = {}\n",
    "for i, team in enumerate(unique_teams):\n",
    "    team_mapping[team] = i\n",
    "team_mapping # Atlanta, 0"
   ]
  },
  {
   "cell_type": "markdown",
   "metadata": {},
   "source": [
    "Adding index columns to the dataset and makign new dataframe"
   ]
  },
  {
   "cell_type": "code",
   "execution_count": null,
   "metadata": {},
   "outputs": [],
   "source": [
    "# Adding index columns to the dataset\n",
    "df['team1_idx'] = df['team1'].map(team_mapping)\n",
    "df['team2_idx'] = df['team2'].map(team_mapping)\n",
    "\n",
    "\n",
    "score_difference = df['score1'] - df['score2']\n",
    "\n",
    "# Create a new DataFrame with the desired columns\n",
    "result_df = pd.DataFrame({\n",
    "    'team1_idx': df['team1_idx'],\n",
    "    'team2_idx': df['team2_idx'],\n",
    "    'score_difference': np.where(df['score1'] - df['score2'] > 0, 1, \n",
    "                                   np.where(df['score1'] - df['score2'] < 0, -1, 0))\n",
    "})\n",
    "\n",
    "# Remove rows where score_difference is zero\n",
    "result_df = result_df[result_df['score_difference'] != 0]\n",
    "# convert panda to numpy\n",
    "result_array = result_df.to_numpy()\n",
    "result_df"
   ]
  },
  {
   "cell_type": "markdown",
   "metadata": {},
   "source": [
    "Q5.2 \n",
    "Changing the order of matches."
   ]
  },
  {
   "cell_type": "code",
   "execution_count": null,
   "metadata": {},
   "outputs": [],
   "source": [
    "np.random.seed(num_seeds)\n",
    "np.random.shuffle(result_array)"
   ]
  },
  {
   "cell_type": "code",
   "execution_count": null,
   "metadata": {},
   "outputs": [],
   "source": [
    "# MU and Sigma for each team\n",
    "skills_dist = [[mu_1, sigma_1] for _ in unique_teams]\n",
    "skills_dist[0]"
   ]
  },
  {
   "cell_type": "code",
   "execution_count": null,
   "metadata": {},
   "outputs": [],
   "source": [
    "def get_team_skills(team_A, team_B, skills_dist=skills_dist):\n",
    "    # Extract mu and sigma for team_A and team_B\n",
    "    mu_A, sigma_A = skills_dist[team_A]\n",
    "    mu_B, sigma_B = skills_dist[team_B]\n",
    "    \n",
    "    return mu_A, sigma_A, mu_B, sigma_B\n",
    "\n",
    "def set_team_skills(team_A, mu_A, sigma_A, team_B, mu_B, sigma_B, skills_dist=skills_dist):\n",
    "    skills_dist[team_A] = [mu_A, sigma_A]\n",
    "    skills_dist[team_B] = [mu_B, sigma_B]\n"
   ]
  },
  {
   "cell_type": "markdown",
   "metadata": {},
   "source": [
    "update the skills based on each matches"
   ]
  },
  {
   "cell_type": "code",
   "execution_count": null,
   "metadata": {},
   "outputs": [],
   "source": [
    "for team_A, team_B, y in result_array:\n",
    "    mu_A, sigma_A, mu_B, sigma_B = get_team_skills(team_A, team_B)\n",
    "    samples = gibbs_sampler(mu_A, sigma_A, mu_B, sigma_B,\n",
    "                                                    y=y,\n",
    "                                                    iterations=iterations)\n",
    "    # Getting the mean and variance of new skills\n",
    "    mean = np.mean(samples[burn_in:, :2], axis = 0)\n",
    "    covariance = np.cov(samples, rowvar = False)\n",
    "    mu_A_new, sigma_A_new, mu_B_new, sigma_B_new =  mean[0], np.sqrt(covariance[0,0]), mean[1], np.sqrt(covariance[1, 1])\n",
    "    set_team_skills(team_A, mu_A_new, sigma_A_new, team_B, mu_B_new, sigma_B_new)"
   ]
  },
  {
   "cell_type": "code",
   "execution_count": null,
   "metadata": {},
   "outputs": [],
   "source": [
    "# Printing the final mean and variance of skills of each team\n",
    "# for idx, (m, s) in enumerate(skills_dist):\n",
    "#     print(f\"{unique_teams[idx]}: mean = {m:.3f}, std dev = {s:.3f}\")"
   ]
  },
  {
   "cell_type": "markdown",
   "metadata": {},
   "source": [
    "## Q5.1\n",
    "Final Ranking"
   ]
  },
  {
   "cell_type": "code",
   "execution_count": null,
   "metadata": {},
   "outputs": [],
   "source": [
    "# ranked based on mu - 3 * sigma\n",
    "ranked_teams = sorted(enumerate(skills_dist), key=lambda x: x[1][0] - 3.0 * x[1][1], reverse=True)\n",
    "# Print ranked teams with their skills\n",
    "for rank, (idx, (m, s)) in enumerate(ranked_teams, start=1):\n",
    "    print(f\"Rank {rank}: Team {unique_teams[idx]} - Skill: {m}, Std Dev: {s}\")"
   ]
  },
  {
   "cell_type": "markdown",
   "metadata": {},
   "source": [
    "# Q6 - Using the model for predictions"
   ]
  },
  {
   "cell_type": "code",
   "execution_count": null,
   "metadata": {},
   "outputs": [],
   "source": [
    "# initializing MU and Sigma for each team\n",
    "skills_dist = [[mu_1, sigma_1] for _ in unique_teams]"
   ]
  },
  {
   "cell_type": "code",
   "execution_count": null,
   "metadata": {},
   "outputs": [],
   "source": [
    "def phi_value(mu_A, sigma_A, mu_B, sigma_B, sigma_t=sigma_t):\n",
    "   \n",
    "    denom = np.sqrt(sigma_A * sigma_A + sigma_B * sigma_B + sigma_t * sigma_t)\n",
    "    # Calculate the argument for the CDF (Phi)\n",
    "    argument = (mu_B - mu_A) / denom\n",
    "    return norm.cdf(argument)\n",
    "\n",
    "def predict_winner(mu_A, sigma_A, mu_B, sigma_B):\n",
    "    # 1 if A wins, -1 if lose.\n",
    "    return 1 if 1 - phi_value(mu_A, sigma_A, mu_B, sigma_B) >= 0.5 else -1"
   ]
  },
  {
   "cell_type": "code",
   "execution_count": null,
   "metadata": {},
   "outputs": [],
   "source": [
    "predicted_y = []\n",
    "for team_A, team_B, y in result_array:\n",
    "    mu_A, sigma_A, mu_B, sigma_B = get_team_skills(team_A, team_B)\n",
    "    # compute the prediction\n",
    "    predicted_y.append(predict_winner(mu_A, sigma_A, mu_B, sigma_B))\n",
    "    samples = gibbs_sampler(mu_A, sigma_A, mu_B, sigma_B,\n",
    "                                                    y=y,\n",
    "                                                    iterations=iterations)\n",
    "    # Getting the mean and variance of new skills\n",
    "    mean = np.mean(samples[burn_in:, :2], axis = 0)\n",
    "    covariance = np.cov(samples, rowvar = False)\n",
    "    mu_A_new, sigma_A_new, mu_B_new, sigma_B_new =  mean[0], np.sqrt(covariance[0,0]), mean[1], np.sqrt(covariance[1, 1])\n",
    "    set_team_skills(team_A, mu_A_new, sigma_A_new, team_B, mu_B_new, sigma_B_new)\n",
    "\n",
    "# compare to the result in the dataset\n",
    "true_y = result_array[:, -1]\n",
    "correct_guesses = np.sum(predicted_y == true_y)\n",
    "r = correct_guesses / len(true_y)\n",
    "print(f\"r is {r:.2f}\")"
   ]
  },
  {
   "cell_type": "markdown",
   "metadata": {},
   "source": [
    "# Q8 - A message-passing algorithm"
   ]
  },
  {
   "cell_type": "markdown",
   "metadata": {},
   "source": [
    "Gussian interaction"
   ]
  },
  {
   "cell_type": "code",
   "execution_count": null,
   "metadata": {},
   "outputs": [],
   "source": [
    "\n",
    "def multiplyGauss(m1, s1, m2, s2):\n",
    "    \"\"\"\n",
    "    Computes the Gaussian distribution N(m,s) proportional to N(m1,s1) * N(m2,s2)\n",
    "    \"\"\"\n",
    "    s = 1 / (1 / s1 + 1 / s2)\n",
    "    m = (m1 / s1 + m2 / s2) * s\n",
    "    return m, s\n",
    "\n",
    "def divideGauss(m1, s1, m2, s2):\n",
    "    \"\"\"\n",
    "    Computes the Gaussian distribution N(m,s) proportional to N(m1,s1) / N(m2,s2)\n",
    "    \"\"\"\n",
    "    m, s = multiplyGauss(m1, s1, m2, -s2)\n",
    "    return m, s\n",
    "\n",
    "def truncGaussMM(a, b, m0, s0):\n",
    "    \"\"\"\n",
    "    Computes the mean and variance of a truncated Gaussian distribution\n",
    "    \"\"\"\n",
    "    # Scale the interval with the mean and variance\n",
    "    a_scaled, b_scaled = (a - m0) / np.sqrt(s0), (b - m0) / np.sqrt(s0)\n",
    "    m = truncnorm.mean(a_scaled, b_scaled, loc=m0, scale=np.sqrt(s0))\n",
    "    s = truncnorm.var(a_scaled, b_scaled, loc=m0, scale=np.sqrt(s0))\n",
    "    return m, s"
   ]
  },
  {
   "cell_type": "markdown",
   "metadata": {},
   "source": [
    "P(t|y) = P(y|t) . P(t)"
   ]
  },
  {
   "cell_type": "code",
   "execution_count": null,
   "metadata": {},
   "outputs": [],
   "source": [
    "def p_t(mu, sigma, t):\n",
    "    return norm.pdf(t, loc=mu, scale=sigma)\n",
    "\n",
    "def p_y_given_t(t, y_obs):\n",
    "    if (y_obs == -1 and t < 0) or (y_obs == 1 and t > 0):\n",
    "        return 1  # p(y | t ) = 1 based on your conditions\n",
    "    else:\n",
    "        return 0\n",
    "\n",
    "# Function to calculate the combined probability\n",
    "def p_t_given_y(mu, sigma, t, y_obs):\n",
    "    return p_t(mu, sigma, t) * p_y_given_t(t, y_obs)"
   ]
  },
  {
   "cell_type": "markdown",
   "metadata": {},
   "source": [
    "Moment Matching"
   ]
  },
  {
   "attachments": {
    "factor graph.jpg": {
     "image/jpeg": "[encoded data removed]"
    }
   },
   "cell_type": "markdown",
   "metadata": {},
   "source": [
    "![factor graph.jpg](<attachment:factor graph.jpg>)"
   ]
  },
  {
   "cell_type": "code",
   "execution_count": null,
   "metadata": {},
   "outputs": [],
   "source": [
    "# Initialize S1, S2\n",
    "mean_msg8 = mu_1  # Mean of mu8\n",
    "var_msg8 = sigma_1 * sigma_1 # Variance of mu8\n",
    "\n",
    "mean_msg5 = mu_2  # Mean of message mu5\n",
    "var_msg5 = sigma_2 * sigma_2 # Variance of message\n",
    "\n",
    "y = 1 # initial y\n",
    "\n",
    "# Message 4 from factor f(t,s1,s2) to node t\n",
    "mean_msg4 = mean_msg8 - mean_msg5 \n",
    "var_msg4 = var_msg8 + var_msg5 + sigma_t * sigma_t\n",
    "\n",
    "# Do moment matching of the marginal of t\n",
    "if y == 1:\n",
    "    a, b = 0, np.Inf\n",
    "else:\n",
    "    a, b = np.NINF, 0\n",
    "\n",
    "mean_p_t_given_y, var_p_t_given_y = truncGaussMM(a, b, mean_msg4, var_msg4)\n",
    "\n",
    "# Compute the message from t to f(t, s1, s2)\n",
    "mean_msg12, var_msg12 = divideGauss(mean_p_t_given_y, var_p_t_given_y, mean_msg4, var_msg4)\n",
    "\n",
    "# Compute the message from f(t, s1, s2) to s1\n",
    "mean_p_s1, var_p_s1 = multiplyGauss(mean_msg12 + mean_msg5, var_msg5 + var_msg12, mean_msg8, var_msg8)\n",
    "\n",
    "# Compute the message from f(t, s1, s2) to s2\n",
    "mean_p_s2, var_p_s2 =  multiplyGauss(mean_msg8 - mean_msg12, var_msg8 + var_msg12, mean_msg5, var_msg5)\n",
    "\n",
    "\n",
    "\n",
    "# # Output result\n",
    "print(f\"> s1: mean:{mean_p_s1}, var:{var_p_s1}\")  \n",
    "print(f\"> s2: mean:{mean_p_s2}, var:{var_p_s2}\")  "
   ]
  },
  {
   "cell_type": "code",
   "execution_count": null,
   "metadata": {},
   "outputs": [],
   "source": [
    "# Moment Matching posterior parameters\n",
    "mu_1_post_mm, sigma_1_post_mm = mean_p_s1, np.sqrt(var_p_s1)\n",
    "mu_2_post_mm, sigma_2_post_mm = mean_p_s2, np.sqrt(var_p_s2)"
   ]
  },
  {
   "cell_type": "markdown",
   "metadata": {},
   "source": [
    "Example execution of the sampler for y = 1"
   ]
  },
  {
   "cell_type": "code",
   "execution_count": null,
   "metadata": {},
   "outputs": [],
   "source": [
    "samples = gibbs_sampler(mu_1, sigma_1, mu_2, sigma_2, y=1, iterations=iterations)\n",
    "\n",
    "# Extract s_1, s_2, and t samples\n",
    "s_1_samples, s_2_samples, t_samples = samples[:, 0], samples[:, 1], samples[:, 2]\n",
    "s_1_filtered = s_1_samples[burn_in:]\n",
    "s_2_filtered = s_2_samples[burn_in:]\n",
    "\n",
    "skills_filtered = np.column_stack((s_1_filtered, s_2_filtered))\n",
    "\n",
    "print(samples.shape)\n",
    "print(samples[0])"
   ]
  },
  {
   "cell_type": "markdown",
   "metadata": {},
   "source": [
    "Gaussian Approximation"
   ]
  },
  {
   "cell_type": "code",
   "execution_count": null,
   "metadata": {},
   "outputs": [],
   "source": [
    "# Gibbs Sampling posterior parameters \n",
    "mu_1_post_gibbs, sigma_1_post_gibbs = gaussian_dist.mean[0], np.sqrt(gaussian_dist.cov[0][0])\n",
    "mu_2_post_gibbs, sigma_2_post_gibbs = gaussian_dist.mean[1], np.sqrt(gaussian_dist.cov[1][1])"
   ]
  },
  {
   "cell_type": "code",
   "execution_count": null,
   "metadata": {},
   "outputs": [],
   "source": [
    "# Define x-axis range for s1 and s2 (non-negative starting at 0)\n",
    "x_s1 = np.linspace(0, mu_1 + 4*sigma_1, 1000)\n",
    "x_s2 = np.linspace(0, mu_2 + 4*sigma_2, 1000)\n",
    "\n",
    "# Compute PDFs for priors and posteriors\n",
    "prior_s1 = norm.pdf(x_s1, mu_1, sigma_1)\n",
    "posterior_s1_mm = norm.pdf(x_s1, mu_1_post_mm, sigma_1_post_mm)\n",
    "posterior_s1_gibbs = norm.pdf(x_s1, mu_1_post_gibbs, sigma_1_post_gibbs)\n",
    "\n",
    "prior_s2 = norm.pdf(x_s2, mu_2, sigma_2)\n",
    "posterior_s2_mm = norm.pdf(x_s2, mu_2_post_mm, sigma_2_post_mm)\n",
    "posterior_s2_gibbs = norm.pdf(x_s2, mu_2_post_gibbs, sigma_2_post_gibbs)\n",
    "\n",
    "num_samples = len(s_1_filtered)\n",
    "\n",
    "# Anzahl der Samples nach dem Burn-in\n",
    "num_samples = len(s_1_filtered)\n",
    "\n",
    "# Plot histograms of the samples and Gaussian approximations for both s1 and s2\n",
    "plt.figure(figsize=(14, 6))\n",
    "\n",
    "# Plot for s1\n",
    "plt.subplot(1, 2, 1)\n",
    "plt.hist(s_1_filtered, bins=30, density=True, alpha=0.6, color='gray', label=f\"Gibbs Samples s1 (n={num_samples})\")\n",
    "plt.plot(x_s1, prior_s1, label=\"Prior p(s1)\", color='black', lw=2)  \n",
    "plt.plot(x_s1, posterior_s1_gibbs, label=\"Posterior Gibbs p(s1|y=1)\", color='green', lw=2, linestyle='dashed')  \n",
    "plt.plot(x_s1, posterior_s1_mm, label=\"Posterior MM p(s1|y=1)\", color='red', lw=2, linestyle='dashed')  \n",
    "plt.title(\"Comparison of Posteriors for s1\")\n",
    "plt.xlabel(\"s1\")\n",
    "plt.ylabel(\"Density\")\n",
    "plt.legend()\n",
    "\n",
    "# Plot for s2\n",
    "plt.subplot(1, 2, 2)\n",
    "plt.hist(s_2_filtered, bins=30, density=True, alpha=0.6, color='gray', label=f\"Gibbs Samples s2 (n={num_samples})\")\n",
    "plt.plot(x_s2, prior_s2, label=\"Prior p(s2)\", color='black', lw=2)  \n",
    "plt.plot(x_s2, posterior_s2_gibbs, label=\"Posterior Gibbs p(s2|y=1)\", color='green', lw=2, linestyle='dashed') \n",
    "plt.plot(x_s2, posterior_s2_mm, label=\"Posterior MM p(s2|y=1)\", color='red', lw=2, linestyle='dashed') \n",
    "plt.title(\"Comparison of Posteriors for s2\")\n",
    "plt.xlabel(\"s2\")\n",
    "plt.ylabel(\"Density\")\n",
    "plt.legend()\n",
    "\n",
    "plt.tight_layout()\n",
    "plt.show()"
   ]
  },
  {
   "cell_type": "code",
   "execution_count": null,
   "metadata": {},
   "outputs": [],
   "source": []
  }
 ],
 "metadata": {
  "kernelspec": {
   "display_name": "Python 3",
   "language": "python",
   "name": "python3"
  },
  "language_info": {
   "codemirror_mode": {
    "name": "ipython",
    "version": 3
   },
   "file_extension": ".py",
   "mimetype": "text/x-python",
   "name": "python",
   "nbconvert_exporter": "python",
   "pygments_lexer": "ipython3",
   "version": "3.9.18"
  }
 },
 "nbformat": 4,
 "nbformat_minor": 2
}
